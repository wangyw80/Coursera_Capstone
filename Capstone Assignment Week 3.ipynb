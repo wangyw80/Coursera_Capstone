{
    "nbformat_minor": 1, 
    "cells": [
        {
            "source": "# Capstone Assignment Week 3", 
            "cell_type": "markdown", 
            "metadata": {
                "collapsed": true
            }
        }, 
        {
            "source": "This notebook is built to prepare location information of Toronto for later use", 
            "cell_type": "markdown", 
            "metadata": {}
        }, 
        {
            "source": "### Part 1. Scraping the postal codes from wikipedia", 
            "cell_type": "markdown", 
            "metadata": {}
        }, 
        {
            "source": "Source: https://en.wikipedia.org/wiki/List_of_postal_codes_of_Canada:_M\n\nLibrary using: beautifulsoup", 
            "cell_type": "markdown", 
            "metadata": {}
        }, 
        {
            "source": "Installing beautifulsoup:", 
            "cell_type": "markdown", 
            "metadata": {}
        }, 
        {
            "execution_count": 5, 
            "cell_type": "code", 
            "metadata": {}, 
            "outputs": [
                {
                    "output_type": "stream", 
                    "name": "stdout", 
                    "text": "Solving environment: done\n\n## Package Plan ##\n\n  environment location: /opt/conda/envs/DSX-Python35\n\n  added / updated specs: \n    - beautifulsoup4\n\n\nThe following packages will be downloaded:\n\n    package                    |            build\n    ---------------------------|-----------------\n    ca-certificates-2019.5.15  |                0         133 KB\n    beautifulsoup4-4.6.3       |           py35_0         140 KB\n    ------------------------------------------------------------\n                                           Total:         273 KB\n\nThe following packages will be UPDATED:\n\n    beautifulsoup4:  4.6.0-py35h442a8c9_1 --> 4.6.3-py35_0\n    ca-certificates: 2019.1.23-0          --> 2019.5.15-0 \n\n\nDownloading and Extracting Packages\nca-certificates-2019 | 133 KB    | ##################################### | 100% \nbeautifulsoup4-4.6.3 | 140 KB    | ##################################### | 100% \nPreparing transaction: done\nVerifying transaction: done\nExecuting transaction: done\nSolving environment: done\n\n## Package Plan ##\n\n  environment location: /opt/conda/envs/DSX-Python35\n\n  added / updated specs: \n    - lxml\n\n\nThe following packages will be downloaded:\n\n    package                    |            build\n    ---------------------------|-----------------\n    libxml2-2.9.9              |       he19cac6_0         2.0 MB\n    lxml-4.2.5                 |   py35hefd8a0e_0         1.6 MB\n    libxslt-1.1.33             |       h7d1a2b0_0         577 KB\n    ------------------------------------------------------------\n                                           Total:         4.2 MB\n\nThe following packages will be UPDATED:\n\n    libxml2: 2.9.4-h6b072ca_5     --> 2.9.9-he19cac6_0    \n    libxslt: 1.1.29-hcf9102b_5    --> 1.1.33-h7d1a2b0_0   \n    lxml:    4.1.0-py35ha401a81_0 --> 4.2.5-py35hefd8a0e_0\n\n\nDownloading and Extracting Packages\nlibxml2-2.9.9        | 2.0 MB    | ##################################### | 100% \nlxml-4.2.5           | 1.6 MB    | ##################################### | 100% \nlibxslt-1.1.33       | 577 KB    | ##################################### | 100% \nPreparing transaction: done\nVerifying transaction: done\nExecuting transaction: done\n"
                }
            ], 
            "source": "! conda install beautifulsoup4\n! conda install lxml"
        }, 
        {
            "source": "__Load libraries and scrape the whole page, then pick out the table.__", 
            "cell_type": "markdown", 
            "metadata": {}
        }, 
        {
            "execution_count": 31, 
            "cell_type": "code", 
            "metadata": {}, 
            "outputs": [
                {
                    "output_type": "stream", 
                    "name": "stdout", 
                    "text": "<title>List of postal codes of Canada: M - Wikipedia</title>\n"
                }
            ], 
            "source": "# Loading libraries\nfrom bs4 import BeautifulSoup\nimport pandas as pd\nimport numpy as np\nimport requests\n# Getting the webpage html code\nwiki = requests.get('https://en.wikipedia.org/wiki/List_of_postal_codes_of_Canada:_M').text\n# Loading html\nsoup = BeautifulSoup(wiki, 'lxml')\nprint(soup.title) # Check if source codes are successfully loaded\n# Pull out the table\ntable = soup.find('table', class_='wikitable sortable')\n"
        }, 
        {
            "source": "**Pull out table headers and contents and store the table into a pandas data frame.**", 
            "cell_type": "markdown", 
            "metadata": {}
        }, 
        {
            "execution_count": 32, 
            "cell_type": "code", 
            "metadata": {}, 
            "outputs": [
                {
                    "output_type": "stream", 
                    "name": "stdout", 
                    "text": "['Postcode', 'Borough', 'Neighbourhood\\n']\n289\n(288, 3)\n"
                }, 
                {
                    "execution_count": 32, 
                    "metadata": {}, 
                    "data": {
                        "text/html": "<div>\n<style scoped>\n    .dataframe tbody tr th:only-of-type {\n        vertical-align: middle;\n    }\n\n    .dataframe tbody tr th {\n        vertical-align: top;\n    }\n\n    .dataframe thead th {\n        text-align: right;\n    }\n</style>\n<table border=\"1\" class=\"dataframe\">\n  <thead>\n    <tr style=\"text-align: right;\">\n      <th></th>\n      <th>Postcode</th>\n      <th>Borough</th>\n      <th>Neighborhood</th>\n    </tr>\n  </thead>\n  <tbody>\n    <tr>\n      <th>283</th>\n      <td>M8Z</td>\n      <td>Etobicoke</td>\n      <td>Mimico NW</td>\n    </tr>\n    <tr>\n      <th>284</th>\n      <td>M8Z</td>\n      <td>Etobicoke</td>\n      <td>The Queensway West</td>\n    </tr>\n    <tr>\n      <th>285</th>\n      <td>M8Z</td>\n      <td>Etobicoke</td>\n      <td>Royal York South West</td>\n    </tr>\n    <tr>\n      <th>286</th>\n      <td>M8Z</td>\n      <td>Etobicoke</td>\n      <td>South of Bloor</td>\n    </tr>\n    <tr>\n      <th>287</th>\n      <td>M9Z</td>\n      <td>Not assigned</td>\n      <td>Not assigned</td>\n    </tr>\n  </tbody>\n</table>\n</div>", 
                        "text/plain": "    Postcode       Borough           Neighborhood\n283      M8Z     Etobicoke              Mimico NW\n284      M8Z     Etobicoke     The Queensway West\n285      M8Z     Etobicoke  Royal York South West\n286      M8Z     Etobicoke         South of Bloor\n287      M9Z  Not assigned           Not assigned"
                    }, 
                    "output_type": "execute_result"
                }
            ], 
            "source": "# Pull out table header\ncolumn=[]\nfor x in table.find_all('th'):\n    column.append(x.get_text())\n\nprint(column) # Check column names\n\n# Find out total rows including the headers\nrow_count=0\nfor x in table.find_all('tr'):\n    row_count+=1\nprint(row_count)\nrow_count-=1 # Adjust for table content rows\n\n# Set up dataframe\npostal = pd.DataFrame(columns=column, index=range(0, row_count))\n\n# Fill in table contents\nrow_marker = 0\nheader = True\nfor row in table.find_all('tr'):\n    if header: # Skipping header\n        header = False\n    else:\n        column_marker = 0\n        columns = row.find_all('td')\n        for column in columns:\n            postal.iat[row_marker,column_marker] = column.get_text()\n            column_marker += 1\n        row_marker += 1\n\n# Fixing '\\n':\npostal.rename(columns = {'Neighbourhood\\n':'Neighborhood'}, inplace = True)  \npostal['Neighborhood'] = postal['Neighborhood'].str.replace(r'\\n', '') \nprint(postal.shape)\npostal.tail()"
        }, 
        {
            "source": "__Cleaning the table to generate unique postcode lines with assigned borough names__", 
            "cell_type": "markdown", 
            "metadata": {}
        }, 
        {
            "execution_count": 34, 
            "cell_type": "code", 
            "metadata": {}, 
            "outputs": [
                {
                    "output_type": "stream", 
                    "name": "stdout", 
                    "text": "Borough not assigned rows:  0\n(211, 3)\nNeighborhood not assigned rows:  1\nNeighborhood not assigned rows:  0\n"
                }
            ], 
            "source": "# Removing lines with boroughs \"Not assigned\".\nprint(\"Borough not assigned rows: \", (postal.Borough == 'Not assigned').sum()) # Check number of rows in question\npostal.drop(postal.index[postal['Borough'] == 'Not assigned'], inplace = True)\nprint(postal.shape) # Result check\n\n# Assigning borough name as neighbourhood name if neighbourhood name is not assigned\nprint(\"Neighborhood not assigned rows: \", (postal.Neighborhood == 'Not assigned').sum()) # Check number of rows without assigned neighbourhood\npostal.loc[postal['Neighborhood'] == 'Not assigned', 'Neighborhood'] = postal.loc[postal['Neighborhood'] == 'Not assigned', 'Borough']\nprint(\"Neighborhood not assigned rows: \", (postal.Neighborhood == 'Not assigned').sum())\n"
        }, 
        {
            "source": "Reframe the data to combine neighborhoods with the same postal code", 
            "cell_type": "markdown", 
            "metadata": {}
        }, 
        {
            "execution_count": 43, 
            "cell_type": "code", 
            "metadata": {}, 
            "outputs": [
                {
                    "output_type": "stream", 
                    "name": "stdout", 
                    "text": "103\n  Postcode           Borough                      Neighborhood\n0      M3A        North York                         Parkwoods\n1      M4A        North York                  Victoria Village\n2      M5A  Downtown Toronto         Harbourfront, Regent Park\n3      M6A        North York  Lawrence Heights, Lawrence Manor\n4      M7A      Queen's Park                      Queen's Park\n5      M9A         Etobicoke                  Islington Avenue\n6      M1B       Scarborough                    Rouge, Malvern\n7      M3B        North York                   Don Mills North\n8      M4B         East York   Woodbine Gardens, Parkview Hill\n9      M5B  Downtown Toronto          Ryerson, Garden District\n    Postcode           Borough  \\\n93       M8W         Etobicoke   \n94       M9W         Etobicoke   \n95       M1X       Scarborough   \n96       M4X  Downtown Toronto   \n97       M5X  Downtown Toronto   \n98       M8X         Etobicoke   \n99       M4Y  Downtown Toronto   \n100      M7Y      East Toronto   \n101      M8Y         Etobicoke   \n102      M8Z         Etobicoke   \n\n                                          Neighborhood  \n93                              Alderwood, Long Branch  \n94                                           Northwest  \n95                                         Upper Rouge  \n96                         Cabbagetown, St. James Town  \n97              First Canadian Place, Underground city  \n98       The Kingsway, Montgomery Road, Old Mill North  \n99                                Church and Wellesley  \n100  Business Reply Mail Processing Centre 969 Eastern  \n101  Humber Bay, King's Mill Park, Kingsway Park So...  \n102  Kingsway Park South West, Mimico NW, The Queen...  \n(103, 3)\n"
                }
            ], 
            "source": "# Stack on postal codes and combining neighbourhoods\ncoderow = len(postal.Postcode.unique()) # Check number of unique postal codes\nprint(coderow)\nstack = pd.DataFrame(columns=list(postal.columns), index=range(0, coderow))\n\ncode_array = postal.Postcode.unique() # Unique postal codes\nrow_marker = 0\n# Fill the new frame with corresponding boroughs and joined unique neighborhoods of each postal codes.\nfor code in code_array:\n    stack.iat[row_marker, 0] = code\n    stack.iat[row_marker, 1] = ', '.join(postal.loc[postal['Postcode'] == code, 'Borough'].unique())\n    stack.iat[row_marker, 2] = ', '.join(postal.loc[postal['Postcode'] == code, 'Neighborhood'].unique())\n    row_marker += 1\n\n# Check results\nprint(stack.head(10))\nprint(stack.tail(10))\nprint(stack.shape)"
        }, 
        {
            "source": "__The target table is generated with 103 rows of postal codes with corresponding boroughs and neighborhoods.__", 
            "cell_type": "markdown", 
            "metadata": {}
        }, 
        {
            "source": "__End of this part__", 
            "cell_type": "markdown", 
            "metadata": {}
        }, 
        {
            "execution_count": null, 
            "cell_type": "code", 
            "metadata": {}, 
            "outputs": [], 
            "source": ""
        }
    ], 
    "metadata": {
        "kernelspec": {
            "display_name": "Python 3.5", 
            "name": "python3", 
            "language": "python"
        }, 
        "language_info": {
            "mimetype": "text/x-python", 
            "nbconvert_exporter": "python", 
            "version": "3.5.5", 
            "name": "python", 
            "file_extension": ".py", 
            "pygments_lexer": "ipython3", 
            "codemirror_mode": {
                "version": 3, 
                "name": "ipython"
            }
        }
    }, 
    "nbformat": 4
}